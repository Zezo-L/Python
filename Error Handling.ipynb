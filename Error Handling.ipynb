{
 "cells": [
  {
   "cell_type": "markdown",
   "id": "31f7ca05",
   "metadata": {},
   "source": [
    "Error Handling"
   ]
  },
  {
   "cell_type": "code",
   "execution_count": null,
   "id": "57ac5463",
   "metadata": {},
   "outputs": [],
   "source": [
    "def safe_division():\n",
    "    try:\n",
    "        Name1= float(input\"Enter the first name: \")\n",
    "        Name2= float(input\"Enter the second name\")\n",
    "\n",
    "        results= Name1/ Name2\n",
    "        print(f\"{num1}\")\n",
    "\n",
    "\n",
    "\n",
    "        "
   ]
  },
  {
   "cell_type": "markdown",
   "id": "055767d7",
   "metadata": {},
   "source": [
    "### Real-World Error Handling Example"
   ]
  },
  {
   "cell_type": "code",
   "execution_count": 3,
   "id": "a00f3b29",
   "metadata": {},
   "outputs": [],
   "source": [
    "\n",
    "\n",
    "def get_student_grade():\n",
    "    while True:\n",
    "        try:\n",
    "            name=input(\"stuudent name: \")\n",
    "            if name.strip() ==\"\":\n",
    "                print(\" please enter a valid name\")\n",
    "                continue\n",
    "\n",
    "            score= int(input(\" Enter sudent score(0-100)\"))\n",
    "            if score < 0 or score >100:\n",
    "                print(\"the scores must be between 0 and 100\")\n",
    "                continue\n",
    "\n",
    "            return name, score\n",
    "        \n",
    "        except ValueError:\n",
    "            print(\"Enter valid numbers\")\n",
    "\n",
    "        except keyboardInterruptError:\n",
    "            exit\n",
    "\n",
    "        except e:\n",
    "            print(\"Error\", e)\n",
    "\n",
    "\n",
    "            "
   ]
  },
  {
   "cell_type": "code",
   "execution_count": 4,
   "id": "ec60fdf4",
   "metadata": {},
   "outputs": [
    {
     "data": {
      "text/plain": [
       "('zezo', 25)"
      ]
     },
     "execution_count": 4,
     "metadata": {},
     "output_type": "execute_result"
    }
   ],
   "source": [
    "get_student_grade()"
   ]
  },
  {
   "cell_type": "code",
   "execution_count": null,
   "id": "d4e82ae9",
   "metadata": {},
   "outputs": [],
   "source": []
  }
 ],
 "metadata": {
  "kernelspec": {
   "display_name": "base",
   "language": "python",
   "name": "python3"
  },
  "language_info": {
   "codemirror_mode": {
    "name": "ipython",
    "version": 3
   },
   "file_extension": ".py",
   "mimetype": "text/x-python",
   "name": "python",
   "nbconvert_exporter": "python",
   "pygments_lexer": "ipython3",
   "version": "3.13.5"
  }
 },
 "nbformat": 4,
 "nbformat_minor": 5
}
