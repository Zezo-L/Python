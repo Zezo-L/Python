{
 "cells": [
  {
   "cell_type": "markdown",
   "id": "fb17de12-52f6-4e92-99ae-5224be6dfb50",
   "metadata": {},
   "source": [
    "How to Create Variables"
   ]
  },
  {
   "cell_type": "code",
   "execution_count": 51,
   "id": "683f20b6-793d-4a9e-98e8-9691305eca22",
   "metadata": {},
   "outputs": [
    {
     "ename": "TypeError",
     "evalue": "'int' object is not callable",
     "output_type": "error",
     "traceback": [
      "\u001b[1;31m---------------------------------------------------------------------------\u001b[0m",
      "\u001b[1;31mTypeError\u001b[0m                                 Traceback (most recent call last)",
      "Cell \u001b[1;32mIn[51], line 5\u001b[0m\n\u001b[0;32m      2\u001b[0m age\u001b[38;5;241m=\u001b[39m \u001b[38;5;241m25\u001b[39m\n\u001b[0;32m      3\u001b[0m city\u001b[38;5;241m=\u001b[39m \u001b[38;5;124m'\u001b[39m\u001b[38;5;124mNew York\u001b[39m\u001b[38;5;124m'\u001b[39m\n\u001b[1;32m----> 5\u001b[0m \u001b[38;5;28mprint\u001b[39m(name)\n\u001b[0;32m      6\u001b[0m \u001b[38;5;28mprint\u001b[39m(age)\n",
      "\u001b[1;31mTypeError\u001b[0m: 'int' object is not callable"
     ]
    }
   ],
   "source": [
    "name='Sarah'\n",
    "age= 25\n",
    "city= 'New York'\n",
    "\n",
    "print(name)\n",
    "print(age)"
   ]
  },
  {
   "cell_type": "markdown",
   "id": "a50e5018-b55c-4e7c-9460-07447447ab12",
   "metadata": {},
   "source": [
    "# Understanding data type"
   ]
  },
  {
   "cell_type": "code",
   "execution_count": 55,
   "id": "6b1936b4-3184-4179-abd9-ef5eb049cb44",
   "metadata": {},
   "outputs": [
    {
     "name": "stdout",
     "output_type": "stream",
     "text": [
      "helo there\n"
     ]
    }
   ],
   "source": [
    "First_name = \"Zezo\"\n",
    "Second_name = \"Lemba\"\n",
    "Address = \"253 main stree\"\n",
    "phone_number = \"+254 76849\"\n",
    "Message = \"helo there\"\n",
    "empty_strng = \"\"\n",
    "\n",
    "Age_as_text = \"25\"\n",
    "Age_as_number = 25\n",
    "print(Message)"
   ]
  },
  {
   "cell_type": "code",
   "execution_count": 10,
   "id": "01873ce2-887f-4460-b7de-d332109d5850",
   "metadata": {},
   "outputs": [
    {
     "name": "stdout",
     "output_type": "stream",
     "text": [
      "Zezo Lemba +254 76849\n"
     ]
    }
   ],
   "source": [
    "print(first_name, second-name, phone_number)"
   ]
  },
  {
   "cell_type": "markdown",
   "id": "105867f6-752a-438c-84b2-9fffd5a03218",
   "metadata": {},
   "source": [
    "# Intergers"
   ]
  },
  {
   "cell_type": "code",
   "execution_count": 57,
   "id": "9739d528-a4e1-4412-90b3-42580aedb36d",
   "metadata": {},
   "outputs": [
    {
     "name": "stdout",
     "output_type": "stream",
     "text": [
      "30\n"
     ]
    }
   ],
   "source": [
    "age= 19\n",
    "year= 2024\n",
    "temperature= 35\n",
    "score= 100\n",
    "negative_number= -15\n",
    "zero= 0\n",
    "\n",
    "total_students= 25\n",
    "new_students= 5\n",
    "class_size= total_students + new_students\n",
    "print(class_size)"
   ]
  },
  {
   "cell_type": "markdown",
   "id": "182e0a26-01c8-4c1c-a6dd-ed40f7d139bb",
   "metadata": {},
   "source": [
    "# Floats"
   ]
  },
  {
   "cell_type": "code",
   "execution_count": 59,
   "id": "48214ffc-8856-49af-aca7-270a4eb97d6e",
   "metadata": {},
   "outputs": [
    {
     "name": "stdout",
     "output_type": "stream",
     "text": [
      "23.97\n"
     ]
    }
   ],
   "source": [
    "height= 5.8\n",
    "weight=145.5\n",
    "temperature= 98.6\n",
    "price= 19.99\n",
    "percentage= 87.5\n",
    "pi= 3.4645\n",
    "\n",
    "item_price= 12.75\n",
    "tax_rate= 0.88\n",
    "total_cost= item_price + (item_price * tax_rate)\n",
    "print(total_cost)"
   ]
  },
  {
   "cell_type": "markdown",
   "id": "0be54ff6-66be-4fe3-9092-267ea2a73540",
   "metadata": {},
   "source": [
    "# checking what type of data you have"
   ]
  },
  {
   "cell_type": "code",
   "execution_count": 62,
   "id": "7c6774eb-9a95-4443-b42e-5773ffd12a9b",
   "metadata": {},
   "outputs": [
    {
     "name": "stdout",
     "output_type": "stream",
     "text": [
      "<class 'str'>\n",
      "<class 'int'>\n",
      "<class 'float'>\n",
      "<class 'bool'>\n",
      "hello world\n",
      "welcome to python\n",
      "Alice\n",
      "my name is Alice and I am 25 years old\n"
     ]
    },
    {
     "name": "stdout",
     "output_type": "stream",
     "text": [
      "whats your name?  zezo\n"
     ]
    },
    {
     "name": "stdout",
     "output_type": "stream",
     "text": [
      "Nice to meet you zezo\n"
     ]
    },
    {
     "name": "stdout",
     "output_type": "stream",
     "text": [
      "How old are you?  19\n"
     ]
    },
    {
     "name": "stdout",
     "output_type": "stream",
     "text": [
      "You typed: 19\n",
      "Type of what you typed: <class 'str'>\n"
     ]
    }
   ],
   "source": [
    "name= \"Alice\"\n",
    "age= 25\n",
    "height=5.8\n",
    "is_student= True\n",
    "\n",
    "print(type(name))\n",
    "print(type(age))\n",
    "print(type(height))\n",
    "print(type(is_student))\n",
    "\n",
    "print(\"hello world\")\n",
    "print(\"welcome to python\")\n",
    "\n",
    "name=\"Alice\"\n",
    "print(name)\n",
    "\n",
    "age= 25\n",
    "print(\"my name is\", name, \"and I am\", age,\"years old\")\n",
    "\n",
    "name=input(\"whats your name? \")\n",
    "print(\"Nice to meet you\", name)\n",
    "\n",
    "age_text= input(\"How old are you? \")\n",
    "print(\"You typed:\", age_text)\n",
    "print(\"Type of what you typed:\", type(age_text))\n",
    "\n"
   ]
  },
  {
   "cell_type": "code",
   "execution_count": null,
   "id": "dc4c036c-ac56-45ca-970c-89f4e28f5a3b",
   "metadata": {},
   "outputs": [],
   "source": []
  }
 ],
 "metadata": {
  "kernelspec": {
   "display_name": "Python [conda env:base] *",
   "language": "python",
   "name": "conda-base-py"
  },
  "language_info": {
   "codemirror_mode": {
    "name": "ipython",
    "version": 3
   },
   "file_extension": ".py",
   "mimetype": "text/x-python",
   "name": "python",
   "nbconvert_exporter": "python",
   "pygments_lexer": "ipython3",
   "version": "3.13.5"
  }
 },
 "nbformat": 4,
 "nbformat_minor": 5
}
